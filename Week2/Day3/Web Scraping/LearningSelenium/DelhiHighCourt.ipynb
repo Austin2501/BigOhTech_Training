{
 "cells": [
  {
   "cell_type": "code",
   "execution_count": 29,
   "metadata": {},
   "outputs": [],
   "source": [
    "from bs4 import BeautifulSoup\n",
    "import requests\n",
    "import time"
   ]
  },
  {
   "cell_type": "code",
   "execution_count": 30,
   "metadata": {},
   "outputs": [],
   "source": [
    "url = 'https://dhccaseinfo.nic.in/jsearch/'"
   ]
  },
  {
   "cell_type": "code",
   "execution_count": 31,
   "metadata": {},
   "outputs": [],
   "source": [
    "page = requests.get(url)"
   ]
  },
  {
   "cell_type": "code",
   "execution_count": 32,
   "metadata": {},
   "outputs": [],
   "source": [
    "soup = BeautifulSoup(page.text, 'html.parser')\n"
   ]
  },
  {
   "cell_type": "code",
   "execution_count": 33,
   "metadata": {},
   "outputs": [
    {
     "name": "stdout",
     "output_type": "stream",
     "text": [
      "\n",
      "<html>\n",
      "<head>\n",
      "<title>DELHI HIGH COURT - JUDGEMENT INFORMATION SYSTEM</title>\n",
      "<link href=\"img/index.ico\" rel=\"SHORTCUT ICON\" type=\"image/vnd.microsoft.icon\"/>\n",
      "<link href=\"css/main.css\" rel=\"stylesheet\" type=\"text/css\"/>\n",
      "</head>\n",
      "<body>\n",
      "<table align=\"center\" border=\"1\" cellpadding=\"0\" cellspacing=\"0\" height=\"2%\" width=\"100%\">\n",
      "<tr bgcolor=\"#abcdef\"><td align=\"center\"><span class=\"style4\"> DELHI HIGH COURT - JUDGEMENT INFORMATION SYSTEM </span></td></tr>\n",
      "</table>\n",
      "<table align=\"center\" border=\"1\" cellpadding=\"0\" cellspacing=\"0\" width=\"100%\">\n",
      "<tr>\n",
      "<form action=\"ncusn.php?scode=31\" enctype=\"multipart/form-data\" id=\"ctypefrm\" method=\"post\" name=\"ctypefrm\" target=\"dynfr\">\n",
      "<td align=\"center\" bgcolor=\"#FFFFFF\" class=\"style13\" width=\"20%\"><b> <input class=\"btn\" name=\"Submit4\" type=\"submit\" value=\"     Neutral Citation     \"/></b></td>\n",
      "</form>\n",
      "<form action=\"casetype.php?scode=31\" enctype=\"multipart/form-data\" id=\"ctypefrm\" method=\"post\" name=\"ctypefrm\" target=\"dynfr\">\n",
      "<td align=\"center\" bgcolor=\"#FFFFFF\" class=\"style13\" width=\"20%\"><b> <input class=\"btn\" name=\"Submit\" type=\"submit\" value=\"     Case Number     \"/></b></td>\n",
      "</form>\n",
      "<form action=\"sjudname.php?scode=31\" enctype=\"multipart/form-data\" id=\"ctypefrm\" method=\"post\" name=\"ctypefrm\" target=\"dynfr\">\n",
      "<td align=\"center\" bgcolor=\"#FFFFFF\" class=\"style13\" width=\"20%\"><b> <input class=\"btn\" name=\"Submit2\" type=\"submit\" value=\"     Sitting Judges' Wise     \"/></b></td>\n",
      "</form>\n",
      "<form action=\"fjudname.php?scode=31\" enctype=\"multipart/form-data\" id=\"ctypefrm\" method=\"post\" name=\"ctypefrm\" target=\"dynfr\">\n",
      "<td align=\"center\" bgcolor=\"#FFFFFF\" class=\"style13\" width=\"20%\"><b> <input class=\"btn\" name=\"Submit2\" type=\"submit\" value=\"     Former Judges' Wise     \"/></b></td>\n",
      "</form>\n",
      "<form action=\"juddt.php?scode=31\" enctype=\"multipart/form-data\" id=\"ctypefrm\" method=\"post\" name=\"ctypefrm\" target=\"dynfr\">\n",
      "<td align=\"center\" bgcolor=\"#FFFFFF\" class=\"style13\" width=\"20%\"><b> <input class=\"btn\" name=\"Submit3\" type=\"submit\" value=\"     Judgement Date     \"/></b></td>\n",
      "</form>\n",
      "<form action=\"title.php?scode=31\" enctype=\"multipart/form-data\" id=\"ctypefrm\" method=\"post\" name=\"ctypefrm\" target=\"dynfr\">\n",
      "<td align=\"center\" bgcolor=\"#FFFFFF\" class=\"style13\" width=\"20%\"><b> <input class=\"btn\" name=\"Submit4\" type=\"submit\" value=\"     Party Name     \"/></b></td>\n",
      "</form>\n",
      "</tr>\n",
      "<tr>\n",
      "<form action=\"https://dhcbkp.nic.in/FreeText/launchCatSearch.do\" enctype=\"multipart/form-data\" id=\"ctypefrm\" method=\"post\" name=\"ctypefrm\" target=\"_blank\">\n",
      "<td align=\"center\" bgcolor=\"#FFFFFF\" class=\"style13\" width=\"20%\"><b> <input class=\"btn\" name=\"Submit4\" type=\"submit\" value=\"     Category Wise     \"/></b></td><td colspan=\"5\"></td>\n",
      "</form>\n",
      "</tr>\n",
      "</table>\n",
      "<embed height=\"100%\" name=\"dynfr\" onerror=\"alert('URL invalid !!');\" src=\"ifrsrc.html\" width=\"100%\"/>\n",
      "<!--<object name=\"dynfr\" data=\"ifrsrc.html\" width=\"100%\" height=\"100%\" type=\"text/html\" ></object>-->\n",
      "<!--<iframe src=\"ifrsrc.html\" name=\"dynfr\" frameborder=\"1\"  align=\"center\" width=\"100%\" height=\"100%\" visibility:visible\"></iframe> -->\n",
      "</body>\n",
      "</html>\n",
      "\n"
     ]
    }
   ],
   "source": [
    "print(soup)"
   ]
  },
  {
   "cell_type": "code",
   "execution_count": 34,
   "metadata": {},
   "outputs": [
    {
     "name": "stdout",
     "output_type": "stream",
     "text": [
      "<bound method Tag.prettify of \n",
      "<html>\n",
      "<head>\n",
      "<title>DELHI HIGH COURT - JUDGEMENT INFORMATION SYSTEM</title>\n",
      "<link href=\"img/index.ico\" rel=\"SHORTCUT ICON\" type=\"image/vnd.microsoft.icon\"/>\n",
      "<link href=\"css/main.css\" rel=\"stylesheet\" type=\"text/css\"/>\n",
      "</head>\n",
      "<body>\n",
      "<table align=\"center\" border=\"1\" cellpadding=\"0\" cellspacing=\"0\" height=\"2%\" width=\"100%\">\n",
      "<tr bgcolor=\"#abcdef\"><td align=\"center\"><span class=\"style4\"> DELHI HIGH COURT - JUDGEMENT INFORMATION SYSTEM </span></td></tr>\n",
      "</table>\n",
      "<table align=\"center\" border=\"1\" cellpadding=\"0\" cellspacing=\"0\" width=\"100%\">\n",
      "<tr>\n",
      "<form action=\"ncusn.php?scode=31\" enctype=\"multipart/form-data\" id=\"ctypefrm\" method=\"post\" name=\"ctypefrm\" target=\"dynfr\">\n",
      "<td align=\"center\" bgcolor=\"#FFFFFF\" class=\"style13\" width=\"20%\"><b> <input class=\"btn\" name=\"Submit4\" type=\"submit\" value=\"     Neutral Citation     \"/></b></td>\n",
      "</form>\n",
      "<form action=\"casetype.php?scode=31\" enctype=\"multipart/form-data\" id=\"ctypefrm\" method=\"post\" name=\"ctypefrm\" target=\"dynfr\">\n",
      "<td align=\"center\" bgcolor=\"#FFFFFF\" class=\"style13\" width=\"20%\"><b> <input class=\"btn\" name=\"Submit\" type=\"submit\" value=\"     Case Number     \"/></b></td>\n",
      "</form>\n",
      "<form action=\"sjudname.php?scode=31\" enctype=\"multipart/form-data\" id=\"ctypefrm\" method=\"post\" name=\"ctypefrm\" target=\"dynfr\">\n",
      "<td align=\"center\" bgcolor=\"#FFFFFF\" class=\"style13\" width=\"20%\"><b> <input class=\"btn\" name=\"Submit2\" type=\"submit\" value=\"     Sitting Judges' Wise     \"/></b></td>\n",
      "</form>\n",
      "<form action=\"fjudname.php?scode=31\" enctype=\"multipart/form-data\" id=\"ctypefrm\" method=\"post\" name=\"ctypefrm\" target=\"dynfr\">\n",
      "<td align=\"center\" bgcolor=\"#FFFFFF\" class=\"style13\" width=\"20%\"><b> <input class=\"btn\" name=\"Submit2\" type=\"submit\" value=\"     Former Judges' Wise     \"/></b></td>\n",
      "</form>\n",
      "<form action=\"juddt.php?scode=31\" enctype=\"multipart/form-data\" id=\"ctypefrm\" method=\"post\" name=\"ctypefrm\" target=\"dynfr\">\n",
      "<td align=\"center\" bgcolor=\"#FFFFFF\" class=\"style13\" width=\"20%\"><b> <input class=\"btn\" name=\"Submit3\" type=\"submit\" value=\"     Judgement Date     \"/></b></td>\n",
      "</form>\n",
      "<form action=\"title.php?scode=31\" enctype=\"multipart/form-data\" id=\"ctypefrm\" method=\"post\" name=\"ctypefrm\" target=\"dynfr\">\n",
      "<td align=\"center\" bgcolor=\"#FFFFFF\" class=\"style13\" width=\"20%\"><b> <input class=\"btn\" name=\"Submit4\" type=\"submit\" value=\"     Party Name     \"/></b></td>\n",
      "</form>\n",
      "</tr>\n",
      "<tr>\n",
      "<form action=\"https://dhcbkp.nic.in/FreeText/launchCatSearch.do\" enctype=\"multipart/form-data\" id=\"ctypefrm\" method=\"post\" name=\"ctypefrm\" target=\"_blank\">\n",
      "<td align=\"center\" bgcolor=\"#FFFFFF\" class=\"style13\" width=\"20%\"><b> <input class=\"btn\" name=\"Submit4\" type=\"submit\" value=\"     Category Wise     \"/></b></td><td colspan=\"5\"></td>\n",
      "</form>\n",
      "</tr>\n",
      "</table>\n",
      "<embed height=\"100%\" name=\"dynfr\" onerror=\"alert('URL invalid !!');\" src=\"ifrsrc.html\" width=\"100%\"/>\n",
      "<!--<object name=\"dynfr\" data=\"ifrsrc.html\" width=\"100%\" height=\"100%\" type=\"text/html\" ></object>-->\n",
      "<!--<iframe src=\"ifrsrc.html\" name=\"dynfr\" frameborder=\"1\"  align=\"center\" width=\"100%\" height=\"100%\" visibility:visible\"></iframe> -->\n",
      "</body>\n",
      "</html>\n",
      ">\n"
     ]
    }
   ],
   "source": [
    "print(soup.prettify)"
   ]
  },
  {
   "cell_type": "code",
   "execution_count": 35,
   "metadata": {},
   "outputs": [
    {
     "data": {
      "text/plain": [
       "<table align=\"center\" border=\"1\" cellpadding=\"0\" cellspacing=\"0\" height=\"2%\" width=\"100%\">\n",
       "<tr bgcolor=\"#abcdef\"><td align=\"center\"><span class=\"style4\"> DELHI HIGH COURT - JUDGEMENT INFORMATION SYSTEM </span></td></tr>\n",
       "</table>"
      ]
     },
     "execution_count": 35,
     "metadata": {},
     "output_type": "execute_result"
    }
   ],
   "source": [
    "soup.find('table')"
   ]
  },
  {
   "cell_type": "code",
   "execution_count": 36,
   "metadata": {},
   "outputs": [
    {
     "data": {
      "text/plain": [
       "[<table align=\"center\" border=\"1\" cellpadding=\"0\" cellspacing=\"0\" height=\"2%\" width=\"100%\">\n",
       " <tr bgcolor=\"#abcdef\"><td align=\"center\"><span class=\"style4\"> DELHI HIGH COURT - JUDGEMENT INFORMATION SYSTEM </span></td></tr>\n",
       " </table>,\n",
       " <table align=\"center\" border=\"1\" cellpadding=\"0\" cellspacing=\"0\" width=\"100%\">\n",
       " <tr>\n",
       " <form action=\"ncusn.php?scode=31\" enctype=\"multipart/form-data\" id=\"ctypefrm\" method=\"post\" name=\"ctypefrm\" target=\"dynfr\">\n",
       " <td align=\"center\" bgcolor=\"#FFFFFF\" class=\"style13\" width=\"20%\"><b> <input class=\"btn\" name=\"Submit4\" type=\"submit\" value=\"     Neutral Citation     \"/></b></td>\n",
       " </form>\n",
       " <form action=\"casetype.php?scode=31\" enctype=\"multipart/form-data\" id=\"ctypefrm\" method=\"post\" name=\"ctypefrm\" target=\"dynfr\">\n",
       " <td align=\"center\" bgcolor=\"#FFFFFF\" class=\"style13\" width=\"20%\"><b> <input class=\"btn\" name=\"Submit\" type=\"submit\" value=\"     Case Number     \"/></b></td>\n",
       " </form>\n",
       " <form action=\"sjudname.php?scode=31\" enctype=\"multipart/form-data\" id=\"ctypefrm\" method=\"post\" name=\"ctypefrm\" target=\"dynfr\">\n",
       " <td align=\"center\" bgcolor=\"#FFFFFF\" class=\"style13\" width=\"20%\"><b> <input class=\"btn\" name=\"Submit2\" type=\"submit\" value=\"     Sitting Judges' Wise     \"/></b></td>\n",
       " </form>\n",
       " <form action=\"fjudname.php?scode=31\" enctype=\"multipart/form-data\" id=\"ctypefrm\" method=\"post\" name=\"ctypefrm\" target=\"dynfr\">\n",
       " <td align=\"center\" bgcolor=\"#FFFFFF\" class=\"style13\" width=\"20%\"><b> <input class=\"btn\" name=\"Submit2\" type=\"submit\" value=\"     Former Judges' Wise     \"/></b></td>\n",
       " </form>\n",
       " <form action=\"juddt.php?scode=31\" enctype=\"multipart/form-data\" id=\"ctypefrm\" method=\"post\" name=\"ctypefrm\" target=\"dynfr\">\n",
       " <td align=\"center\" bgcolor=\"#FFFFFF\" class=\"style13\" width=\"20%\"><b> <input class=\"btn\" name=\"Submit3\" type=\"submit\" value=\"     Judgement Date     \"/></b></td>\n",
       " </form>\n",
       " <form action=\"title.php?scode=31\" enctype=\"multipart/form-data\" id=\"ctypefrm\" method=\"post\" name=\"ctypefrm\" target=\"dynfr\">\n",
       " <td align=\"center\" bgcolor=\"#FFFFFF\" class=\"style13\" width=\"20%\"><b> <input class=\"btn\" name=\"Submit4\" type=\"submit\" value=\"     Party Name     \"/></b></td>\n",
       " </form>\n",
       " </tr>\n",
       " <tr>\n",
       " <form action=\"https://dhcbkp.nic.in/FreeText/launchCatSearch.do\" enctype=\"multipart/form-data\" id=\"ctypefrm\" method=\"post\" name=\"ctypefrm\" target=\"_blank\">\n",
       " <td align=\"center\" bgcolor=\"#FFFFFF\" class=\"style13\" width=\"20%\"><b> <input class=\"btn\" name=\"Submit4\" type=\"submit\" value=\"     Category Wise     \"/></b></td><td colspan=\"5\"></td>\n",
       " </form>\n",
       " </tr>\n",
       " </table>]"
      ]
     },
     "execution_count": 36,
     "metadata": {},
     "output_type": "execute_result"
    }
   ],
   "source": [
    "soup.find_all('table')"
   ]
  },
  {
   "cell_type": "code",
   "execution_count": 37,
   "metadata": {},
   "outputs": [
    {
     "data": {
      "text/plain": [
       "<span class=\"style4\"> DELHI HIGH COURT - JUDGEMENT INFORMATION SYSTEM </span>"
      ]
     },
     "execution_count": 37,
     "metadata": {},
     "output_type": "execute_result"
    }
   ],
   "source": [
    "soup.find('span')"
   ]
  },
  {
   "cell_type": "code",
   "execution_count": 38,
   "metadata": {},
   "outputs": [],
   "source": [
    "titles = soup.find_all('table')"
   ]
  },
  {
   "cell_type": "code",
   "execution_count": 39,
   "metadata": {},
   "outputs": [
    {
     "name": "stdout",
     "output_type": "stream",
     "text": [
      "[<table align=\"center\" border=\"1\" cellpadding=\"0\" cellspacing=\"0\" height=\"2%\" width=\"100%\">\n",
      "<tr bgcolor=\"#abcdef\"><td align=\"center\"><span class=\"style4\"> DELHI HIGH COURT - JUDGEMENT INFORMATION SYSTEM </span></td></tr>\n",
      "</table>, <table align=\"center\" border=\"1\" cellpadding=\"0\" cellspacing=\"0\" width=\"100%\">\n",
      "<tr>\n",
      "<form action=\"ncusn.php?scode=31\" enctype=\"multipart/form-data\" id=\"ctypefrm\" method=\"post\" name=\"ctypefrm\" target=\"dynfr\">\n",
      "<td align=\"center\" bgcolor=\"#FFFFFF\" class=\"style13\" width=\"20%\"><b> <input class=\"btn\" name=\"Submit4\" type=\"submit\" value=\"     Neutral Citation     \"/></b></td>\n",
      "</form>\n",
      "<form action=\"casetype.php?scode=31\" enctype=\"multipart/form-data\" id=\"ctypefrm\" method=\"post\" name=\"ctypefrm\" target=\"dynfr\">\n",
      "<td align=\"center\" bgcolor=\"#FFFFFF\" class=\"style13\" width=\"20%\"><b> <input class=\"btn\" name=\"Submit\" type=\"submit\" value=\"     Case Number     \"/></b></td>\n",
      "</form>\n",
      "<form action=\"sjudname.php?scode=31\" enctype=\"multipart/form-data\" id=\"ctypefrm\" method=\"post\" name=\"ctypefrm\" target=\"dynfr\">\n",
      "<td align=\"center\" bgcolor=\"#FFFFFF\" class=\"style13\" width=\"20%\"><b> <input class=\"btn\" name=\"Submit2\" type=\"submit\" value=\"     Sitting Judges' Wise     \"/></b></td>\n",
      "</form>\n",
      "<form action=\"fjudname.php?scode=31\" enctype=\"multipart/form-data\" id=\"ctypefrm\" method=\"post\" name=\"ctypefrm\" target=\"dynfr\">\n",
      "<td align=\"center\" bgcolor=\"#FFFFFF\" class=\"style13\" width=\"20%\"><b> <input class=\"btn\" name=\"Submit2\" type=\"submit\" value=\"     Former Judges' Wise     \"/></b></td>\n",
      "</form>\n",
      "<form action=\"juddt.php?scode=31\" enctype=\"multipart/form-data\" id=\"ctypefrm\" method=\"post\" name=\"ctypefrm\" target=\"dynfr\">\n",
      "<td align=\"center\" bgcolor=\"#FFFFFF\" class=\"style13\" width=\"20%\"><b> <input class=\"btn\" name=\"Submit3\" type=\"submit\" value=\"     Judgement Date     \"/></b></td>\n",
      "</form>\n",
      "<form action=\"title.php?scode=31\" enctype=\"multipart/form-data\" id=\"ctypefrm\" method=\"post\" name=\"ctypefrm\" target=\"dynfr\">\n",
      "<td align=\"center\" bgcolor=\"#FFFFFF\" class=\"style13\" width=\"20%\"><b> <input class=\"btn\" name=\"Submit4\" type=\"submit\" value=\"     Party Name     \"/></b></td>\n",
      "</form>\n",
      "</tr>\n",
      "<tr>\n",
      "<form action=\"https://dhcbkp.nic.in/FreeText/launchCatSearch.do\" enctype=\"multipart/form-data\" id=\"ctypefrm\" method=\"post\" name=\"ctypefrm\" target=\"_blank\">\n",
      "<td align=\"center\" bgcolor=\"#FFFFFF\" class=\"style13\" width=\"20%\"><b> <input class=\"btn\" name=\"Submit4\" type=\"submit\" value=\"     Category Wise     \"/></b></td><td colspan=\"5\"></td>\n",
      "</form>\n",
      "</tr>\n",
      "</table>]\n"
     ]
    }
   ],
   "source": [
    "print(titles)"
   ]
  },
  {
   "cell_type": "code",
   "execution_count": 40,
   "metadata": {},
   "outputs": [
    {
     "name": "stdout",
     "output_type": "stream",
     "text": [
      "['\\n DELHI HIGH COURT - JUDGEMENT INFORMATION SYSTEM \\n', '\\n\\n\\n \\n\\n\\n \\n\\n\\n \\n\\n\\n \\n\\n\\n \\n\\n\\n \\n\\n\\n\\n\\n \\n\\n\\n']\n"
     ]
    }
   ],
   "source": [
    "table_titles = [title.text for title in titles]\n",
    "print(table_titles)"
   ]
  },
  {
   "cell_type": "code",
   "execution_count": null,
   "metadata": {},
   "outputs": [],
   "source": []
  }
 ],
 "metadata": {
  "kernelspec": {
   "display_name": "Python 3",
   "language": "python",
   "name": "python3"
  },
  "language_info": {
   "codemirror_mode": {
    "name": "ipython",
    "version": 3
   },
   "file_extension": ".py",
   "mimetype": "text/x-python",
   "name": "python",
   "nbconvert_exporter": "python",
   "pygments_lexer": "ipython3",
   "version": "3.12.3"
  }
 },
 "nbformat": 4,
 "nbformat_minor": 2
}
