{
 "cells": [
  {
   "cell_type": "code",
   "execution_count": 12,
   "metadata": {},
   "outputs": [],
   "source": [
    "import pandas as pd"
   ]
  },
  {
   "cell_type": "markdown",
   "metadata": {},
   "source": [
    "Pivot a DataFrame to convert unique values in one column into multiple columns."
   ]
  },
  {
   "cell_type": "code",
   "execution_count": 13,
   "metadata": {},
   "outputs": [
    {
     "name": "stdout",
     "output_type": "stream",
     "text": [
      "City     London  New York  Paris\n",
      "Name                            \n",
      "Alice      25.0       NaN    NaN\n",
      "Bob         NaN      32.0    NaN\n",
      "Charlie     NaN       NaN   30.0\n"
     ]
    }
   ],
   "source": [
    "# Create a DataFrame\n",
    "df = pd.DataFrame({'Name': ['Alice', 'Bob', 'Charlie'], 'Age': [25, 32, 30], 'City': ['London', 'New York', 'Paris']})\n",
    "\n",
    "# Pivot the DataFrame\n",
    "df = df.pivot(index='Name', columns='City', values='Age')\n",
    "\n",
    "# Print the DataFrame\n",
    "print(df)"
   ]
  },
  {
   "cell_type": "markdown",
   "metadata": {},
   "source": [
    "Melt a DataFrame to convert multiple columns into a single column with key-value pairs."
   ]
  },
  {
   "cell_type": "code",
   "execution_count": 14,
   "metadata": {},
   "outputs": [
    {
     "name": "stdout",
     "output_type": "stream",
     "text": [
      "      Name variable     value\n",
      "0    Alice     City    London\n",
      "1      Bob     City  New York\n",
      "2  Charlie     City     Paris\n",
      "3    Alice      Age        25\n",
      "4      Bob      Age        32\n",
      "5  Charlie      Age        30\n"
     ]
    }
   ],
   "source": [
    "df = pd.DataFrame({'Name': ['Alice', 'Bob', 'Charlie'], 'Age': [25, 32, 30], 'City': ['London', 'New York', 'Paris']})\n",
    "\n",
    "df_melted = pd.melt(df, id_vars=[\"Name\"], value_vars=[\"City\", \"Age\"])\n",
    "\n",
    "print(df_melted)"
   ]
  },
  {
   "cell_type": "markdown",
   "metadata": {},
   "source": [
    "Stack and unstack levels of a multi-index DataFrame."
   ]
  },
  {
   "cell_type": "code",
   "execution_count": 15,
   "metadata": {},
   "outputs": [
    {
     "data": {
      "text/html": [
       "<div>\n",
       "<style scoped>\n",
       "    .dataframe tbody tr th:only-of-type {\n",
       "        vertical-align: middle;\n",
       "    }\n",
       "\n",
       "    .dataframe tbody tr th {\n",
       "        vertical-align: top;\n",
       "    }\n",
       "\n",
       "    .dataframe thead th {\n",
       "        text-align: right;\n",
       "    }\n",
       "</style>\n",
       "<table border=\"1\" class=\"dataframe\">\n",
       "  <thead>\n",
       "    <tr style=\"text-align: right;\">\n",
       "      <th></th>\n",
       "      <th></th>\n",
       "      <th>A</th>\n",
       "      <th>B</th>\n",
       "      <th>C</th>\n",
       "    </tr>\n",
       "    <tr>\n",
       "      <th>level_1</th>\n",
       "      <th>level_2</th>\n",
       "      <th></th>\n",
       "      <th></th>\n",
       "      <th></th>\n",
       "    </tr>\n",
       "  </thead>\n",
       "  <tbody>\n",
       "    <tr>\n",
       "      <th rowspan=\"2\" valign=\"top\">a</th>\n",
       "      <th>1</th>\n",
       "      <td>1</td>\n",
       "      <td>3</td>\n",
       "      <td>7</td>\n",
       "    </tr>\n",
       "    <tr>\n",
       "      <th>2</th>\n",
       "      <td>2</td>\n",
       "      <td>4</td>\n",
       "      <td>8</td>\n",
       "    </tr>\n",
       "    <tr>\n",
       "      <th>b</th>\n",
       "      <th>1</th>\n",
       "      <td>3</td>\n",
       "      <td>5</td>\n",
       "      <td>9</td>\n",
       "    </tr>\n",
       "  </tbody>\n",
       "</table>\n",
       "</div>"
      ],
      "text/plain": [
       "                 A  B  C\n",
       "level_1 level_2         \n",
       "a       1        1  3  7\n",
       "        2        2  4  8\n",
       "b       1        3  5  9"
      ]
     },
     "execution_count": 15,
     "metadata": {},
     "output_type": "execute_result"
    }
   ],
   "source": [
    "# Create a DataFrame with a multi-index\n",
    "df = pd.DataFrame({'A': [1, 2, 3], 'B': [3, 4, 5], 'C': [7, 8, 9]},\n",
    "                  index=pd.MultiIndex.from_tuples([('a', 1), ('a', 2), ('b', 1)],\n",
    "                                                  names=['level_1', 'level_2']))\n",
    "\n",
    "df"
   ]
  },
  {
   "cell_type": "code",
   "execution_count": 16,
   "metadata": {},
   "outputs": [
    {
     "name": "stdout",
     "output_type": "stream",
     "text": [
      "level_1  level_2   \n",
      "a        1        A    1\n",
      "                  B    3\n",
      "                  C    7\n",
      "         2        A    2\n",
      "                  B    4\n",
      "                  C    8\n",
      "b        1        A    3\n",
      "                  B    5\n",
      "                  C    9\n",
      "dtype: int64\n",
      "                 A  B  C\n",
      "level_1 level_2         \n",
      "a       1        1  3  7\n",
      "        2        2  4  8\n",
      "b       1        3  5  9\n"
     ]
    }
   ],
   "source": [
    "# Stack the DataFrame\n",
    "df_stacked = df.stack()\n",
    "\n",
    "# Print the stacked DataFrame\n",
    "print(df_stacked)\n",
    "\n",
    "# Unstack the DataFrame\n",
    "df_unstacked = df_stacked.unstack()\n",
    "\n",
    "# Print the unstacked DataFrame\n",
    "print(df_unstacked)"
   ]
  }
 ],
 "metadata": {
  "kernelspec": {
   "display_name": "Python 3",
   "language": "python",
   "name": "python3"
  },
  "language_info": {
   "codemirror_mode": {
    "name": "ipython",
    "version": 3
   },
   "file_extension": ".py",
   "mimetype": "text/x-python",
   "name": "python",
   "nbconvert_exporter": "python",
   "pygments_lexer": "ipython3",
   "version": "3.12.3"
  }
 },
 "nbformat": 4,
 "nbformat_minor": 2
}
