{
 "cells": [
  {
   "cell_type": "code",
   "execution_count": 1,
   "metadata": {},
   "outputs": [],
   "source": [
    "import pandas as pd"
   ]
  },
  {
   "cell_type": "markdown",
   "metadata": {},
   "source": [
    "Encode categorical variables using one-hot encoding or label encoding."
   ]
  },
  {
   "cell_type": "code",
   "execution_count": 2,
   "metadata": {},
   "outputs": [
    {
     "name": "stdout",
     "output_type": "stream",
     "text": [
      "   Category_A  Category_B  Category_C\n",
      "0        True       False       False\n",
      "1       False        True       False\n",
      "2        True       False       False\n",
      "3       False       False        True\n",
      "4       False        True       False\n",
      "5        True       False       False\n",
      "  Category  Category_Label\n",
      "0        A               0\n",
      "1        B               1\n",
      "2        A               0\n",
      "3        C               2\n",
      "4        B               1\n",
      "5        A               0\n"
     ]
    }
   ],
   "source": [
    "# Sample categorical data\n",
    "data = {'Category': ['A', 'B', 'A', 'C', 'B', 'A']}\n",
    "df = pd.DataFrame(data)\n",
    "\n",
    "# One-hot encoding\n",
    "df_one_hot = pd.get_dummies(df, columns=['Category'])\n",
    "\n",
    "# Label encoding\n",
    "from sklearn.preprocessing import LabelEncoder\n",
    "label_encoder = LabelEncoder()\n",
    "df['Category_Label'] = label_encoder.fit_transform(df['Category'])\n",
    "\n",
    "# Print the encoded DataFrames\n",
    "print(df_one_hot)\n",
    "print(df)\n"
   ]
  },
  {
   "cell_type": "markdown",
   "metadata": {},
   "source": [
    "Perform categorical data analysis, including frequency counts and value counts."
   ]
  },
  {
   "cell_type": "code",
   "execution_count": 3,
   "metadata": {},
   "outputs": [
    {
     "name": "stdout",
     "output_type": "stream",
     "text": [
      "Category\n",
      "A    3\n",
      "B    2\n",
      "C    1\n",
      "Name: count, dtype: int64\n",
      "Category\n",
      "A    3\n",
      "B    2\n",
      "C    1\n",
      "Name: count, dtype: int64\n"
     ]
    }
   ],
   "source": [
    "# Frequency counts\n",
    "frequency_counts = df['Category'].value_counts()\n",
    "\n",
    "# Value counts (similar to frequency counts)\n",
    "value_counts = df['Category'].value_counts()\n",
    "\n",
    "# Print the frequency counts and value counts\n",
    "print(frequency_counts)\n",
    "print(value_counts)\n"
   ]
  },
  {
   "cell_type": "markdown",
   "metadata": {},
   "source": [
    "Convert categorical data into ordered categorical data if applicable."
   ]
  },
  {
   "cell_type": "code",
   "execution_count": 4,
   "metadata": {},
   "outputs": [
    {
     "name": "stdout",
     "output_type": "stream",
     "text": [
      "     Size\n",
      "0   Small\n",
      "1  Medium\n",
      "2   Large\n",
      "3   Small\n",
      "4   Large\n",
      "5  Medium\n"
     ]
    }
   ],
   "source": [
    "# Sample categorical data with a natural order\n",
    "data = {'Size': ['Small', 'Medium', 'Large', 'Small', 'Large', 'Medium']}\n",
    "df = pd.DataFrame(data)\n",
    "\n",
    "# Convert to ordered categorical data\n",
    "size_categories = ['Small', 'Medium', 'Large']\n",
    "df['Size'] = pd.Categorical(df['Size'], categories=size_categories, ordered=True)\n",
    "\n",
    "# Print the DataFrame with ordered categorical data\n",
    "print(df)\n"
   ]
  }
 ],
 "metadata": {
  "kernelspec": {
   "display_name": "Python 3",
   "language": "python",
   "name": "python3"
  },
  "language_info": {
   "codemirror_mode": {
    "name": "ipython",
    "version": 3
   },
   "file_extension": ".py",
   "mimetype": "text/x-python",
   "name": "python",
   "nbconvert_exporter": "python",
   "pygments_lexer": "ipython3",
   "version": "3.12.3"
  }
 },
 "nbformat": 4,
 "nbformat_minor": 2
}
