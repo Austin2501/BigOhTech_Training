{
 "cells": [
  {
   "cell_type": "code",
   "execution_count": 1,
   "metadata": {},
   "outputs": [],
   "source": [
    "import pandas as pd\n",
    "import numpy as np"
   ]
  },
  {
   "cell_type": "markdown",
   "metadata": {},
   "source": [
    "Resample time-series data to a different frequency (e.g., from daily to monthly)."
   ]
  },
  {
   "cell_type": "code",
   "execution_count": 2,
   "metadata": {},
   "outputs": [],
   "source": [
    "# Create a sample daily time series data\n",
    "date_range = pd.date_range(start='2024-01-01', end='2024-12-31', freq='D')\n",
    "data = np.random.randn(len(date_range))\n",
    "df = pd.DataFrame(data, index=date_range, columns=['Value'])"
   ]
  },
  {
   "cell_type": "code",
   "execution_count": 3,
   "metadata": {},
   "outputs": [
    {
     "name": "stdout",
     "output_type": "stream",
     "text": [
      "               Value\n",
      "2024-01-31 -0.113709\n",
      "2024-02-29  0.037550\n",
      "2024-03-31  0.085778\n",
      "2024-04-30  0.122391\n",
      "2024-05-31 -0.019246\n"
     ]
    },
    {
     "name": "stderr",
     "output_type": "stream",
     "text": [
      "/var/folders/n1/g13sdpn91hd6bpz964jwd91r0000gn/T/ipykernel_5164/977346747.py:2: FutureWarning: 'M' is deprecated and will be removed in a future version, please use 'ME' instead.\n",
      "  df_monthly = df.resample('M').mean()\n"
     ]
    }
   ],
   "source": [
    "# Resample the data to monthly frequency\n",
    "df_monthly = df.resample('M').mean()\n",
    "\n",
    "# Print the first few rows of the resampled data\n",
    "print(df_monthly.head())"
   ]
  },
  {
   "cell_type": "markdown",
   "metadata": {},
   "source": [
    "Compute rolling statistics (e.g., rolling mean, rolling sum) on time-series data."
   ]
  },
  {
   "cell_type": "code",
   "execution_count": 8,
   "metadata": {},
   "outputs": [
    {
     "name": "stdout",
     "output_type": "stream",
     "text": [
      "               Value  Rolling Mean  Rolling Sum\n",
      "2024-01-01 -0.688912           NaN          NaN\n",
      "2024-01-02 -0.090432           NaN          NaN\n",
      "2024-01-03  0.605846           NaN          NaN\n",
      "2024-01-04 -0.317257           NaN          NaN\n",
      "2024-01-05  1.675287           NaN          NaN\n",
      "2024-01-06 -0.398889           NaN          NaN\n",
      "2024-01-07 -0.302835      0.068973     0.482808\n",
      "2024-01-08 -0.420497      0.107318     0.751223\n",
      "2024-01-09 -1.164441     -0.046112    -0.322786\n",
      "2024-01-10  0.117559     -0.115868    -0.811073\n",
      "2024-01-11 -1.355930     -0.264249    -1.849746\n",
      "2024-01-12 -0.115543     -0.520082    -3.640577\n",
      "2024-01-13 -0.163777     -0.486495    -3.405465\n",
      "2024-01-14  1.339860     -0.251824    -1.762769\n",
      "2024-01-15  0.431146     -0.130161    -0.911126\n"
     ]
    }
   ],
   "source": [
    "# Compute the rolling mean with a window of 7 days\n",
    "df['Rolling Mean'] = df['Value'].rolling(window=7).mean()\n",
    "\n",
    "# Compute the rolling sum with a window of 7 days\n",
    "df['Rolling Sum'] = df['Value'].rolling(window=7).sum()\n",
    "\n",
    "# Print the first few rows of the DataFrame with rolling statistics\n",
    "print(df.head(15))\n"
   ]
  },
  {
   "cell_type": "markdown",
   "metadata": {},
   "source": [
    "Perform time-based slicing and indexing on a DataFrame with datetime index."
   ]
  },
  {
   "cell_type": "code",
   "execution_count": 5,
   "metadata": {},
   "outputs": [
    {
     "name": "stdout",
     "output_type": "stream",
     "text": [
      "               Value  Rolling Mean  Rolling Sum\n",
      "2024-03-01  0.074486     -0.284367    -1.990570\n",
      "2024-03-02 -0.120214     -0.195255    -1.366786\n",
      "2024-03-03 -0.543232     -0.341324    -2.389268\n",
      "2024-03-04 -0.505802     -0.507504    -3.552526\n",
      "2024-03-05  1.766135     -0.082404    -0.576826\n"
     ]
    }
   ],
   "source": [
    "# Slice the DataFrame for a specific date range\n",
    "df_slice = df['2024-03':'2024-05']\n",
    "\n",
    "# Print the sliced DataFrame\n",
    "print(df_slice.head())\n"
   ]
  }
 ],
 "metadata": {
  "kernelspec": {
   "display_name": "Python 3",
   "language": "python",
   "name": "python3"
  },
  "language_info": {
   "codemirror_mode": {
    "name": "ipython",
    "version": 3
   },
   "file_extension": ".py",
   "mimetype": "text/x-python",
   "name": "python",
   "nbconvert_exporter": "python",
   "pygments_lexer": "ipython3",
   "version": "3.12.3"
  }
 },
 "nbformat": 4,
 "nbformat_minor": 2
}
